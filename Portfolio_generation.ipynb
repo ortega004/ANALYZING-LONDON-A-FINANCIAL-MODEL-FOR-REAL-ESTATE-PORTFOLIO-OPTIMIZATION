{
 "cells": [
  {
   "cell_type": "code",
   "execution_count": 23,
   "id": "b7fcf9ae",
   "metadata": {},
   "outputs": [
    {
     "name": "stdout",
     "output_type": "stream",
     "text": [
      "Portfolio data has been saved to: portfolio.csv\n"
     ]
    }
   ],
   "source": [
    "import csv\n",
    "import random\n",
    "\n",
    "def generate_property():\n",
    "    property_type = random.choice(['Apartment', 'House'])\n",
    "    bedrooms = random.randint(1, 5)\n",
    "    rent = random.randint(6000, 10000)  # Monthly rent in GBP\n",
    "    council_tax = random.randint(100, 300)  # Monthly council tax in GBP\n",
    "    insurance = random.randint(50, 200)  # Monthly insurance cost in GBP\n",
    "    maintenance = random.randint(50, 300)  # Monthly maintenance cost in GBP\n",
    "    utilities = random.randint(100, 400)  # Monthly utilities cost in GBP\n",
    "    management_fee = random.uniform(0.05, 0.10)  # Property management fee as a percentage of rent\n",
    "    vacancy_rate = random.uniform(0.05, 0.08)  # Estimated vacancy rate\n",
    "    \n",
    "    # Additional parameters related to purchase and loan\n",
    "    purchase_price = random.randint(800000, 2000000)  # Purchase price in GBP\n",
    "    loan_to_value = random.uniform(0.4, 0.7)  # Loan-to-value ratio\n",
    "    equity = purchase_price * (1 - loan_to_value)  # Equity in GBP\n",
    "    interest_rate = random.uniform(0.04, 0.08)  # Annual interest rate\n",
    "    amortization_period = random.randint(20, 25)  # Amortization period in years\n",
    "    \n",
    "    # Generate a random postcode (not accurate)\n",
    "    postcode = ''.join(random.choices('ABCDEFGHIJKLMNOPQRSTUVWXYZ', k=2)) + \\\n",
    "               ''.join(random.choices('0123456789', k=1)) + \\\n",
    "               ''.join(random.choices('ABCDEFGHIJKLMNOPQRSTUVWXYZ', k=1)) + \\\n",
    "               ''.join(random.choices(' 0123456789', k=1)) + \\\n",
    "               ''.join(random.choices('ABCDEFGHJKLMNPQRSTUVWXYZ', k=1))\n",
    "    \n",
    "    return {\n",
    "        'Property Type': property_type,\n",
    "        'Bedrooms': bedrooms,\n",
    "        'Rent': rent,\n",
    "        'Council Tax': council_tax,\n",
    "        'Insurance': insurance,\n",
    "        'Maintenance': maintenance,\n",
    "        'Utilities': utilities,\n",
    "        'Management Fee': management_fee,\n",
    "        'Vacancy Rate': vacancy_rate,\n",
    "        'Purchase Price': purchase_price,\n",
    "        'Loan to Value': loan_to_value,\n",
    "        'Equity': equity,\n",
    "        'Interest Rate': interest_rate,\n",
    "        'Amortization Period': amortization_period,\n",
    "        'Postcode': postcode\n",
    "    }\n",
    "\n",
    "def generate_portfolio(num_properties):\n",
    "    portfolio = []\n",
    "    for _ in range(num_properties):\n",
    "        property_data = generate_property()\n",
    "        portfolio.append(property_data)\n",
    "    return portfolio\n",
    "\n",
    "# Generate a portfolio of 25 properties\n",
    "portfolio = generate_portfolio(25)\n",
    "\n",
    "# Define the field names for the CSV file\n",
    "field_names = ['Property Type', 'Bedrooms', 'Rent', 'Council Tax', 'Insurance', \n",
    "               'Maintenance', 'Utilities', 'Management Fee', 'Vacancy Rate', 'Purchase Price',\n",
    "               'Loan to Value', 'Equity', 'Interest Rate', 'Amortization Period', 'Postcode']\n",
    "\n",
    "# Save the data to a CSV file\n",
    "csv_file_path = 'portfolio.csv'\n",
    "with open(csv_file_path, 'w', newline='') as csv_file:\n",
    "    writer = csv.DictWriter(csv_file, fieldnames=field_names)\n",
    "    \n",
    "    # Write the header\n",
    "    writer.writeheader()\n",
    "    \n",
    "    # Write the data\n",
    "    for property_data in portfolio:\n",
    "        writer.writerow(property_data)\n",
    "\n",
    "print(\"Portfolio data has been saved to:\", csv_file_path)\n"
   ]
  },
  {
   "cell_type": "code",
   "execution_count": 1,
   "id": "f2bb7143",
   "metadata": {},
   "outputs": [
    {
     "ename": "NameError",
     "evalue": "name 'pd' is not defined",
     "output_type": "error",
     "traceback": [
      "\u001b[1;31m---------------------------------------------------------------------------\u001b[0m",
      "\u001b[1;31mNameError\u001b[0m                                 Traceback (most recent call last)",
      "Cell \u001b[1;32mIn[1], line 1\u001b[0m\n\u001b[1;32m----> 1\u001b[0m df \u001b[38;5;241m=\u001b[39m \u001b[43mpd\u001b[49m\u001b[38;5;241m.\u001b[39mread_csv(\u001b[38;5;124m'\u001b[39m\u001b[38;5;124mairbnb_portfolio.csv\u001b[39m\u001b[38;5;124m'\u001b[39m)\n\u001b[0;32m      2\u001b[0m \u001b[38;5;28mprint\u001b[39m(df\u001b[38;5;241m.\u001b[39mhead)\n",
      "\u001b[1;31mNameError\u001b[0m: name 'pd' is not defined"
     ]
    }
   ],
   "source": [
    "df = pd.read_csv('airbnb_portfolio.csv')\n",
    "print(df.head)"
   ]
  },
  {
   "cell_type": "code",
   "execution_count": null,
   "id": "22622ee9",
   "metadata": {},
   "outputs": [],
   "source": []
  }
 ],
 "metadata": {
  "kernelspec": {
   "display_name": "Python 3 (ipykernel)",
   "language": "python",
   "name": "python3"
  },
  "language_info": {
   "codemirror_mode": {
    "name": "ipython",
    "version": 3
   },
   "file_extension": ".py",
   "mimetype": "text/x-python",
   "name": "python",
   "nbconvert_exporter": "python",
   "pygments_lexer": "ipython3",
   "version": "3.10.9"
  }
 },
 "nbformat": 4,
 "nbformat_minor": 5
}
